{
 "cells": [
  {
   "cell_type": "markdown",
   "id": "888e459e",
   "metadata": {},
   "source": [
    "# K-Means\n",
    "\n",
    "Algorithm\n",
    "\n",
    "1. Choose k random starting points\n",
    "2. Assign each point in the dataset to the closest centroid\n",
    "3. Re-position the centroids such that they are in the middle (average) of their assigned data points\n",
    "4. Repeat from step 2 until done"
   ]
  },
  {
   "cell_type": "markdown",
   "id": "74404cdd",
   "metadata": {},
   "source": [
    "## Setup"
   ]
  },
  {
   "cell_type": "code",
   "execution_count": null,
   "id": "289fac6c",
   "metadata": {},
   "outputs": [],
   "source": [
    "import math\n",
    "from functools import partial\n",
    "\n",
    "import pandas as pd\n",
    "import numpy as np\n",
    "import matplotlib.pyplot as plt\n",
    "import seaborn as sns\n",
    "from sklearn.datasets import make_blobs"
   ]
  },
  {
   "cell_type": "code",
   "execution_count": null,
   "id": "636b1872",
   "metadata": {},
   "outputs": [],
   "source": [
    "plt.rc('figure', figsize=(16, 9))\n",
    "plt.rc('font', size=13)"
   ]
  },
  {
   "cell_type": "code",
   "execution_count": null,
   "id": "50feca7a",
   "metadata": {},
   "outputs": [],
   "source": [
    "def distance(p, q):\n",
    "    '''\n",
    "    distance between 2d points p and q\n",
    "    \n",
    "    assumes p and q both have properties x1 and x2\n",
    "    '''\n",
    "    return math.sqrt((p.x1 - q.x1) ** 2 + (p.x2 - q.x2) ** 2)\n",
    "\n",
    "\n",
    "def find_cluster(centroids: pd.DataFrame, row: pd.Series):\n",
    "    'Given centroids and a row, return the closest centroid'\n",
    "    distances = centroids.apply(lambda center: distance(center, row), axis=1)\n",
    "    return distances.idxmin()"
   ]
  },
  {
   "cell_type": "markdown",
   "id": "56204b9c",
   "metadata": {},
   "source": [
    "## Demo"
   ]
  },
  {
   "cell_type": "code",
   "execution_count": null,
   "id": "518368cf",
   "metadata": {},
   "outputs": [],
   "source": [
    "# Generate random data for clustering\n",
    "np.random.seed(73)\n",
    "X, _ = make_blobs(cluster_std=1.5)\n",
    "\n",
    "df = pd.DataFrame(X, columns=[\"x1\", \"x2\"])\n",
    "\n",
    "sns.relplot(data=df, x='x1', y='x2', aspect=1.5)\n",
    "plt.title('Our initial data')"
   ]
  },
  {
   "cell_type": "code",
   "execution_count": null,
   "id": "5fb6c4fa",
   "metadata": {},
   "outputs": [],
   "source": [
    "# Generate random 3 centroids\n",
    "centroids = pd.DataFrame(np.random.rand(3, 2), columns=[\"x1\", \"x2\"])"
   ]
  },
  {
   "cell_type": "code",
   "execution_count": null,
   "id": "75c94d17",
   "metadata": {},
   "outputs": [],
   "source": [
    "sns.relplot(x=df.x1, y=df.x2, aspect=1.5)\n",
    "plt.title('3 Random Points are chosen for centroids')\n",
    "plt.scatter(centroids.x1, centroids.x2, marker='x', s=600, c='red')"
   ]
  },
  {
   "cell_type": "code",
   "execution_count": null,
   "id": "606ed8b4",
   "metadata": {},
   "outputs": [],
   "source": [
    "# assign each data point to the closest centroid, that is the point's cluster\n",
    "df['cluster'] = df.apply(partial(find_cluster, centroids), axis=1).astype('category')"
   ]
  },
  {
   "cell_type": "code",
   "execution_count": null,
   "id": "1202e8c3",
   "metadata": {},
   "outputs": [],
   "source": [
    "sns.relplot(data=df, x='x1', y='x2', hue='cluster', aspect=1.5)\n",
    "plt.title('Each point has been assigned to the closest centroid')\n",
    "plt.scatter(centroids.x1, centroids.x2, marker='x', s=600, c='red')"
   ]
  },
  {
   "cell_type": "code",
   "execution_count": null,
   "id": "aa677c59",
   "metadata": {},
   "outputs": [],
   "source": [
    "# update centroids\n",
    "centroids = df.groupby('cluster').mean()"
   ]
  },
  {
   "cell_type": "code",
   "execution_count": null,
   "id": "6324a3f5",
   "metadata": {},
   "outputs": [],
   "source": [
    "sns.relplot(data=df, x='x1', y='x2', hue='cluster', aspect=1.5)\n",
    "plt.title('Centroids have been updated such that\\nthey are in the middle of their clusters')\n",
    "plt.scatter(centroids.x1, centroids.x2, marker='x', s=600, c='red')"
   ]
  },
  {
   "cell_type": "markdown",
   "id": "9b6534c6",
   "metadata": {},
   "source": [
    "Repeat..."
   ]
  },
  {
   "cell_type": "code",
   "execution_count": null,
   "id": "8252920d",
   "metadata": {},
   "outputs": [],
   "source": [
    "df['cluster'] = df.apply(partial(find_cluster, centroids), axis=1).astype('category')"
   ]
  },
  {
   "cell_type": "code",
   "execution_count": null,
   "id": "d1952e37",
   "metadata": {},
   "outputs": [],
   "source": [
    "sns.relplot(data=df, x='x1', y='x2', hue='cluster', aspect=1.5)\n",
    "plt.title('Each point assigned to the closest centroid')\n",
    "plt.scatter(centroids.x1, centroids.x2, marker='x', s=600, c='red')"
   ]
  },
  {
   "cell_type": "code",
   "execution_count": null,
   "id": "a1269b9a",
   "metadata": {},
   "outputs": [],
   "source": [
    "# update centroids\n",
    "centroids = df.groupby('cluster').mean()"
   ]
  },
  {
   "cell_type": "code",
   "execution_count": null,
   "id": "812b1240",
   "metadata": {},
   "outputs": [],
   "source": [
    "sns.relplot(data=df, x='x1', y='x2', hue='cluster', aspect=1.5)\n",
    "plt.title('Centroids repositioned at the middle of their clusters')\n",
    "plt.scatter(centroids.x1, centroids.x2, marker='x', s=600, c='red')"
   ]
  },
  {
   "cell_type": "markdown",
   "id": "53b4e20b",
   "metadata": {},
   "source": [
    "Repeat..."
   ]
  },
  {
   "cell_type": "code",
   "execution_count": null,
   "id": "9e852ec7",
   "metadata": {},
   "outputs": [],
   "source": [
    "df['cluster'] = df.apply(partial(find_cluster, centroids), axis=1).astype('category')"
   ]
  },
  {
   "cell_type": "code",
   "execution_count": null,
   "id": "025226ab",
   "metadata": {},
   "outputs": [],
   "source": [
    "sns.relplot(data=df, x='x1', y='x2', hue='cluster', aspect=1.5)\n",
    "plt.title('Each point assigned to the closest centroid')\n",
    "plt.scatter(centroids.x1, centroids.x2, marker='x', s=600, c='red')"
   ]
  },
  {
   "cell_type": "code",
   "execution_count": null,
   "id": "4a6b9677",
   "metadata": {},
   "outputs": [],
   "source": [
    "# update centroids\n",
    "centroids = df.groupby('cluster').mean()"
   ]
  },
  {
   "cell_type": "code",
   "execution_count": null,
   "id": "e2948bf5",
   "metadata": {},
   "outputs": [],
   "source": [
    "sns.relplot(data=df, x='x1', y='x2', hue='cluster', aspect=1.5)\n",
    "plt.title('Centroids repositioned at the middle of their clusters')\n",
    "plt.scatter(centroids.x1, centroids.x2, marker='x', s=600, c='red')"
   ]
  },
  {
   "cell_type": "markdown",
   "id": "f5517fb0",
   "metadata": {},
   "source": [
    "Repeat..."
   ]
  },
  {
   "cell_type": "code",
   "execution_count": null,
   "id": "2576919c",
   "metadata": {},
   "outputs": [],
   "source": [
    "df['cluster'] = df.apply(partial(find_cluster, centroids), axis=1).astype('category')"
   ]
  },
  {
   "cell_type": "code",
   "execution_count": null,
   "id": "7fc2c981",
   "metadata": {},
   "outputs": [],
   "source": [
    "sns.relplot(data=df, x='x1', y='x2', hue='cluster', aspect=1.5)\n",
    "plt.title('Each point assigned to the closest centroid')\n",
    "plt.scatter(centroids.x1, centroids.x2, marker='x', s=600, c='red')"
   ]
  },
  {
   "cell_type": "code",
   "execution_count": null,
   "id": "eae69f93",
   "metadata": {},
   "outputs": [],
   "source": [
    "# update centroids\n",
    "centroids = df.groupby('cluster').mean()"
   ]
  },
  {
   "cell_type": "code",
   "execution_count": null,
   "id": "4614a0f0",
   "metadata": {},
   "outputs": [],
   "source": [
    "sns.relplot(data=df, x='x1', y='x2', hue='cluster', aspect=1.5)\n",
    "plt.title('Centroids repositioned at the middle of their clusters')\n",
    "plt.scatter(centroids.x1, centroids.x2, marker='x', s=600, c='red')"
   ]
  }
 ],
 "metadata": {
  "kernelspec": {
   "display_name": "Python 3 (ipykernel)",
   "language": "python",
   "name": "python3"
  },
  "language_info": {
   "codemirror_mode": {
    "name": "ipython",
    "version": 3
   },
   "file_extension": ".py",
   "mimetype": "text/x-python",
   "name": "python",
   "nbconvert_exporter": "python",
   "pygments_lexer": "ipython3",
   "version": "3.9.7"
  }
 },
 "nbformat": 4,
 "nbformat_minor": 5
}
